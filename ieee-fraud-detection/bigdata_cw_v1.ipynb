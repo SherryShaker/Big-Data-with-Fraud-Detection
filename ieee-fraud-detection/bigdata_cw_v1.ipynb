{
 "cells": [
  {
   "cell_type": "code",
   "execution_count": 2,
   "metadata": {},
   "outputs": [
    {
     "data": {
      "text/plain": [
       "DataFrame[TransactionID: string, isFraud: string, TransactionDT: string, TransactionAmt: string, ProductCD: string, card1: string, card2: string, card3: string, card4: string, card5: string, card6: string, addr1: string, addr2: string, dist1: string, P_emaildomain: string, R_emaildomain: string, C1: string, C2: string, C3: string, C4: string, C5: string, C6: string, C7: string, C8: string, C9: string, C10: string, C11: string, C12: string, C13: string, C14: string, D1: string, D2: string, D3: string, D4: string, D5: string, D10: string, D11: string, D15: string, M1: string, M2: string, M3: string, M4: string, M5: string, M6: string, M7: string, M8: string, M9: string, V1: string, V2: string, V3: string, V4: string, V5: string, V6: string, V7: string, V8: string, V9: string, V10: string, V11: string, V12: string, V13: string, V14: string, V15: string, V16: string, V17: string, V18: string, V19: string, V20: string, V21: string, V22: string, V23: string, V24: string, V25: string, V26: string, V27: string, V28: string, V29: string, V30: string, V31: string, V32: string, V33: string, V34: string, V35: string, V36: string, V37: string, V38: string, V39: string, V40: string, V41: string, V42: string, V43: string, V44: string, V45: string, V46: string, V47: string, V48: string, V49: string, V50: string, V51: string, V52: string, V53: string, V54: string, V55: string, V56: string, V57: string, V58: string, V59: string, V60: string, V61: string, V62: string, V63: string, V64: string, V65: string, V66: string, V67: string, V68: string, V69: string, V70: string, V71: string, V72: string, V73: string, V74: string, V75: string, V76: string, V77: string, V78: string, V79: string, V80: string, V81: string, V82: string, V83: string, V84: string, V85: string, V86: string, V87: string, V88: string, V89: string, V90: string, V91: string, V92: string, V93: string, V94: string, V95: string, V96: string, V97: string, V98: string, V99: string, V100: string, V101: string, V102: string, V103: string, V104: string, V105: string, V106: string, V107: string, V108: string, V109: string, V110: string, V111: string, V112: string, V113: string, V114: string, V115: string, V116: string, V117: string, V118: string, V119: string, V120: string, V121: string, V122: string, V123: string, V124: string, V125: string, V126: string, V127: string, V128: string, V129: string, V130: string, V131: string, V132: string, V133: string, V134: string, V135: string, V136: string, V137: string, V167: string, V168: string, V169: string, V170: string, V171: string, V172: string, V173: string, V174: string, V175: string, V176: string, V177: string, V178: string, V179: string, V180: string, V181: string, V182: string, V183: string, V184: string, V185: string, V186: string, V187: string, V188: string, V189: string, V190: string, V191: string, V192: string, V193: string, V194: string, V195: string, V196: string, V197: string, V198: string, V199: string, V200: string, V201: string, V202: string, V203: string, V204: string, V205: string, V206: string, V207: string, V208: string, V209: string, V210: string, V211: string, V212: string, V213: string, V214: string, V215: string, V216: string, V217: string, V218: string, V219: string, V220: string, V221: string, V222: string, V223: string, V224: string, V225: string, V226: string, V227: string, V228: string, V229: string, V230: string, V231: string, V232: string, V233: string, V234: string, V235: string, V236: string, V237: string, V238: string, V239: string, V240: string, V241: string, V242: string, V243: string, V244: string, V245: string, V246: string, V247: string, V248: string, V249: string, V250: string, V251: string, V252: string, V253: string, V254: string, V255: string, V256: string, V257: string, V258: string, V259: string, V260: string, V261: string, V262: string, V263: string, V264: string, V265: string, V266: string, V267: string, V268: string, V269: string, V270: string, V271: string, V272: string, V273: string, V274: string, V275: string, V276: string, V277: string, V278: string, V279: string, V280: string, V281: string, V282: string, V283: string, V284: string, V285: string, V286: string, V287: string, V288: string, V289: string, V290: string, V291: string, V292: string, V293: string, V294: string, V295: string, V296: string, V297: string, V298: string, V299: string, V300: string, V301: string, V302: string, V303: string, V304: string, V305: string, V306: string, V307: string, V308: string, V309: string, V310: string, V311: string, V312: string, V313: string, V314: string, V315: string, V316: string, V317: string, V318: string, V319: string, V320: string, V321: string, id_01: string, id_02: string, id_05: string, id_06: string, id_11: string, id_12: string, id_13: string, id_15: string, id_16: string, id_17: string, id_19: string, id_20: string, id_28: string, id_29: string, id_31: string, id_35: string, id_36: string, id_37: string, id_38: string, DeviceType: string, DeviceInfo: string]"
      ]
     },
     "execution_count": 2,
     "metadata": {},
     "output_type": "execute_result"
    }
   ],
   "source": [
    "# %load drop_null.py\n",
    "import os.path\n",
    "from pyspark.context import SparkConf, SparkContext\n",
    "from pyspark.sql.session import SparkSession\n",
    "import pyspark.sql.functions as F\n",
    "\n",
    "sc = SparkContext('local', 'bigdata_cw_v1')\n",
    "spark = SparkSession(sc)\n",
    "#from pyspark.sql import SparkSession\n",
    "#spark = SparkSession.builder.enableHiveSupport().getOrCreate()\n",
    "\n",
    "current_path = %pwd\n",
    "filePath = os.path.join(os.path.abspath(current_path + os.path.sep + \".\"),'ieee-fraud-detection')\n",
    "    \n",
    "fileName_train_trans = 'train_transaction.csv'\n",
    "file_train_trans = os.path.join(filePath, fileName_train_trans)\n",
    "\n",
    "fileName_train_id = 'train_identity.csv'\n",
    "file_train_id = os.path.join(filePath, fileName_train_id)\n",
    "    \n",
    "df = spark.read.options(header='true').csv(file_train_trans)\n",
    "df2 = spark.read.options(header='true').csv(file_train_id)\n",
    "train = df.join(df2, df.TransactionID == df2.TransactionID, 'left').drop(df2.TransactionID)\n",
    "#train.drop('trainsid')\n",
    "\n",
    "missing = train.select([F.count(F.when(F.col(c).isNull(), c)).alias(c) for c in train.columns])\n",
    "null_counts = missing.collect()[0].asDict()\n",
    "to_drop = [k for k, v in null_counts.items() if v > (590540*0.8)]\n",
    "len(to_drop)\n",
    "train.drop(*to_drop)\n"
   ]
  },
  {
   "cell_type": "code",
   "execution_count": 3,
   "metadata": {},
   "outputs": [],
   "source": [
    "from pyspark.sql.types import DoubleType\n",
    "\n",
    "def remove_duplicate_columns(col_name, col_num, train):\n",
    "    # cast column data type to double\n",
    "    for i in range(1, col_num + 1):\n",
    "        cName = col_name + str(i)\n",
    "        train = train.withColumn(cName, F.col(cName).cast(DoubleType()))\n",
    "    \n",
    "    # calculate the correlation of C columns\n",
    "    dup = []\n",
    "    for i in range(1, col_num):\n",
    "        col1 = col_name + str(i)\n",
    "        col2 = col_name + str(i + 1)\n",
    "        corr = train.corr(col1, col2)\n",
    "        if (corr >= 0.95):\n",
    "            dup.append(i + 1)\n",
    "\n",
    "    # drop columns with duplicate data\n",
    "    for i in range(len(dup)):\n",
    "        cName = col_name + str(dup[i])\n",
    "        train = train.drop(cName)\n",
    "    return train\n",
    "        \n",
    "# C columns\n",
    "train = remove_duplicate_columns('C', 14, train)\n",
    "# D columns\n",
    "train = remove_duplicate_columns('D', 15, train)\n",
    "# V columns\n",
    "train = remove_duplicate_columns('V', 339, train)\n",
    "\n"
   ]
  }
 ],
 "metadata": {
  "kernelspec": {
   "display_name": "Python 3",
   "language": "python",
   "name": "python3"
  },
  "language_info": {
   "codemirror_mode": {
    "name": "ipython",
    "version": 3
   },
   "file_extension": ".py",
   "mimetype": "text/x-python",
   "name": "python",
   "nbconvert_exporter": "python",
   "pygments_lexer": "ipython3",
   "version": "3.7.3"
  }
 },
 "nbformat": 4,
 "nbformat_minor": 4
}
