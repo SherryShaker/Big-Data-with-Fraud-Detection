{
 "cells": [
  {
   "cell_type": "code",
   "execution_count": null,
   "metadata": {
    "colab": {
     "base_uri": "https://localhost:8080/"
    },
    "executionInfo": {
     "elapsed": 40260,
     "status": "ok",
     "timestamp": 1618830386596,
     "user": {
      "displayName": "Boaa Wong",
      "photoUrl": "",
      "userId": "17960031123875382409"
     },
     "user_tz": 480
    },
    "id": "UlfDjM9in7s4",
    "outputId": "0c421e30-831b-4e9f-db92-805445ab3dab"
   },
   "outputs": [
    {
     "name": "stdout",
     "output_type": "stream",
     "text": [
      "Collecting pyspark\n",
      "\u001b[?25l  Downloading https://files.pythonhosted.org/packages/45/b0/9d6860891ab14a39d4bddf80ba26ce51c2f9dc4805e5c6978ac0472c120a/pyspark-3.1.1.tar.gz (212.3MB)\n",
      "\u001b[K     |████████████████████████████████| 212.3MB 71kB/s \n",
      "\u001b[?25hCollecting py4j==0.10.9\n",
      "\u001b[?25l  Downloading https://files.pythonhosted.org/packages/9e/b6/6a4fb90cd235dc8e265a6a2067f2a2c99f0d91787f06aca4bcf7c23f3f80/py4j-0.10.9-py2.py3-none-any.whl (198kB)\n",
      "\u001b[K     |████████████████████████████████| 204kB 49.8MB/s \n",
      "\u001b[?25hBuilding wheels for collected packages: pyspark\n",
      "  Building wheel for pyspark (setup.py) ... \u001b[?25l\u001b[?25hdone\n",
      "  Created wheel for pyspark: filename=pyspark-3.1.1-py2.py3-none-any.whl size=212767604 sha256=414efd6e60bdc06e6c5ab7fda8164b813e7ac4ed4feb8fb6cc354b3f8e3f8b33\n",
      "  Stored in directory: /root/.cache/pip/wheels/0b/90/c0/01de724414ef122bd05f056541fb6a0ecf47c7ca655f8b3c0f\n",
      "Successfully built pyspark\n",
      "Installing collected packages: py4j, pyspark\n",
      "Successfully installed py4j-0.10.9 pyspark-3.1.1\n"
     ]
    }
   ],
   "source": [
    "! pip install pyspark"
   ]
  },
  {
   "cell_type": "code",
   "execution_count": null,
   "metadata": {
    "colab": {
     "base_uri": "https://localhost:8080/"
    },
    "executionInfo": {
     "elapsed": 70675,
     "status": "ok",
     "timestamp": 1618830417019,
     "user": {
      "displayName": "Boaa Wong",
      "photoUrl": "",
      "userId": "17960031123875382409"
     },
     "user_tz": 480
    },
    "id": "ByAep-LMpwaP",
    "outputId": "da2d035d-c9af-4362-8acd-d95ec12dbc1b"
   },
   "outputs": [
    {
     "name": "stdout",
     "output_type": "stream",
     "text": [
      "Mounted at /content/drive\n"
     ]
    }
   ],
   "source": [
    "from google.colab import drive\n",
    "drive.mount('/content/drive')"
   ]
  },
  {
   "cell_type": "code",
   "execution_count": null,
   "metadata": {
    "id": "l8zKYRDupdsx"
   },
   "outputs": [],
   "source": [
    "import os"
   ]
  },
  {
   "cell_type": "code",
   "execution_count": null,
   "metadata": {
    "id": "-sNNTBq1pgGE"
   },
   "outputs": [],
   "source": [
    "os.chdir(\"/content/drive/MyDrive\")"
   ]
  },
  {
   "cell_type": "code",
   "execution_count": null,
   "metadata": {
    "colab": {
     "base_uri": "https://localhost:8080/"
    },
    "executionInfo": {
     "elapsed": 71092,
     "status": "ok",
     "timestamp": 1618830417446,
     "user": {
      "displayName": "Boaa Wong",
      "photoUrl": "",
      "userId": "17960031123875382409"
     },
     "user_tz": 480
    },
    "id": "rxCbrjOMqDFH",
    "outputId": "11010e6c-707b-4227-809c-282cbdc01001"
   },
   "outputs": [
    {
     "name": "stdout",
     "output_type": "stream",
     "text": [
      "\n",
      "UNRAR 5.50 freeware      Copyright (c) 1993-2017 Alexander Roshal\n",
      "\n",
      "\n",
      "Extracting from 1k.rar\n",
      "\n",
      "Extracting  /content/1k.csv                                              \b\b\b\b 99%\b\b\b\b\b  OK \n",
      "All OK\n"
     ]
    }
   ],
   "source": [
    "! unrar e 1k.rar -C /content/"
   ]
  },
  {
   "cell_type": "code",
   "execution_count": null,
   "metadata": {
    "id": "jdvEKnKuq0hc"
   },
   "outputs": [],
   "source": [
    "os.chdir(\"/content/\")"
   ]
  },
  {
   "cell_type": "code",
   "execution_count": null,
   "metadata": {
    "id": "d6b36e02",
    "scrolled": true
   },
   "outputs": [],
   "source": [
    "from pyspark.sql.functions import isnan, when, count, col\n",
    "from pyspark.sql import SparkSession\n",
    "\n",
    "spark = SparkSession \\\n",
    "    .builder \\\n",
    "    .master(\"local[*]\") \\\n",
    "    .config(\"spark.driver.memory\", \"15g\") \\\n",
    "    .appName(\"Train_ml\") \\\n",
    "    .getOrCreate()\n",
    "\n",
    "train = spark.read.options(header='true').csv(\"1k.csv\")\n",
    "\n",
    "missing = train.select([count(when(col(c).isNull(), c)).alias(c) for c in train.columns])\n",
    "null_counts = missing.collect()[0].asDict()\n",
    "to_drop = [k for k, v in null_counts.items() if v > (1000*0.001)]\n",
    "print(len(to_drop))\n",
    "print(to_drop)\n",
    "train = train.drop(*to_drop)\n",
    "#train = train.sample(0.1)\n",
    "print(len(train.columns))\n",
    "print(train.count())"
   ]
  },
  {
   "cell_type": "code",
   "execution_count": null,
   "metadata": {
    "colab": {
     "base_uri": "https://localhost:8080/"
    },
    "executionInfo": {
     "elapsed": 95963,
     "status": "ok",
     "timestamp": 1618830442332,
     "user": {
      "displayName": "Boaa Wong",
      "photoUrl": "",
      "userId": "17960031123875382409"
     },
     "user_tz": 480
    },
    "id": "45dc5951",
    "outputId": "d0315b9b-ac11-4f73-ad06-3ede4ebfeb2d"
   },
   "outputs": [
    {
     "name": "stdout",
     "output_type": "stream",
     "text": [
      "['card6', 'card3', 'card4', 'ProductCD', 'card1']\n"
     ]
    }
   ],
   "source": [
    "raw_features = train.columns\n",
    "raw_features.remove('isFraud')\n",
    "\n",
    "categorical = ['ProductCD',\n",
    "               'card1','card2','card3','card4','card5','card6', \n",
    "               'addr1', 'addr2',\n",
    "               'M1', 'M2', 'M3', 'M4', 'M5', 'M6', 'M7', 'M8', 'M9',\n",
    "               'P_emaildomain', 'R_emaildomain',\n",
    "               'DeviceType','DeviceInfo',\n",
    "               'id_12',  'id_13', 'id_14',  'id_15',\n",
    "               'id_16',  'id_17',  'id_18',  'id_19',  'id_20',\n",
    "               'id_21',  'id_22',  'id_23',  'id_24',  'id_25',\n",
    "               'id_26',  'id_27',  'id_28',  'id_29',  'id_30',\n",
    "               'id_31',  'id_32',  'id_33',  'id_34',  'id_35',  'id_36',  'id_37',  'id_38']\n",
    "categorical = list(set(categorical) - set(to_drop))\n",
    "print(categorical)\n"
   ]
  },
  {
   "cell_type": "code",
   "execution_count": null,
   "metadata": {
    "colab": {
     "base_uri": "https://localhost:8080/"
    },
    "executionInfo": {
     "elapsed": 101633,
     "status": "ok",
     "timestamp": 1618830448008,
     "user": {
      "displayName": "Boaa Wong",
      "photoUrl": "",
      "userId": "17960031123875382409"
     },
     "user_tz": 480
    },
    "id": "9fdba2d6",
    "outputId": "89e54481-d973-477d-a4b4-c40057da51a4"
   },
   "outputs": [
    {
     "name": "stdout",
     "output_type": "stream",
     "text": [
      "root\n",
      " |-- TransactionID: float (nullable = true)\n",
      " |-- isFraud: float (nullable = true)\n",
      " |-- TransactionDT: float (nullable = true)\n",
      " |-- TransactionAmt: float (nullable = true)\n",
      " |-- ProductCD: string (nullable = true)\n",
      " |-- card1: string (nullable = true)\n",
      " |-- card3: string (nullable = true)\n",
      " |-- card4: string (nullable = true)\n",
      " |-- card6: string (nullable = true)\n",
      " |-- C1: float (nullable = true)\n",
      " |-- C2: float (nullable = true)\n",
      " |-- C3: float (nullable = true)\n",
      " |-- C4: float (nullable = true)\n",
      " |-- C5: float (nullable = true)\n",
      " |-- C6: float (nullable = true)\n",
      " |-- C7: float (nullable = true)\n",
      " |-- C8: float (nullable = true)\n",
      " |-- C9: float (nullable = true)\n",
      " |-- C10: float (nullable = true)\n",
      " |-- C11: float (nullable = true)\n",
      " |-- C12: float (nullable = true)\n",
      " |-- C13: float (nullable = true)\n",
      " |-- C14: float (nullable = true)\n",
      " |-- D1: float (nullable = true)\n",
      " |-- V95: float (nullable = true)\n",
      " |-- V96: float (nullable = true)\n",
      " |-- V97: float (nullable = true)\n",
      " |-- V98: float (nullable = true)\n",
      " |-- V99: float (nullable = true)\n",
      " |-- V100: float (nullable = true)\n",
      " |-- V101: float (nullable = true)\n",
      " |-- V102: float (nullable = true)\n",
      " |-- V103: float (nullable = true)\n",
      " |-- V104: float (nullable = true)\n",
      " |-- V105: float (nullable = true)\n",
      " |-- V106: float (nullable = true)\n",
      " |-- V107: float (nullable = true)\n",
      " |-- V108: float (nullable = true)\n",
      " |-- V109: float (nullable = true)\n",
      " |-- V110: float (nullable = true)\n",
      " |-- V111: float (nullable = true)\n",
      " |-- V112: float (nullable = true)\n",
      " |-- V113: float (nullable = true)\n",
      " |-- V114: float (nullable = true)\n",
      " |-- V115: float (nullable = true)\n",
      " |-- V116: float (nullable = true)\n",
      " |-- V117: float (nullable = true)\n",
      " |-- V118: float (nullable = true)\n",
      " |-- V119: float (nullable = true)\n",
      " |-- V120: float (nullable = true)\n",
      " |-- V121: float (nullable = true)\n",
      " |-- V122: float (nullable = true)\n",
      " |-- V123: float (nullable = true)\n",
      " |-- V124: float (nullable = true)\n",
      " |-- V125: float (nullable = true)\n",
      " |-- V126: float (nullable = true)\n",
      " |-- V127: float (nullable = true)\n",
      " |-- V128: float (nullable = true)\n",
      " |-- V129: float (nullable = true)\n",
      " |-- V130: float (nullable = true)\n",
      " |-- V131: float (nullable = true)\n",
      " |-- V132: float (nullable = true)\n",
      " |-- V133: float (nullable = true)\n",
      " |-- V134: float (nullable = true)\n",
      " |-- V135: float (nullable = true)\n",
      " |-- V136: float (nullable = true)\n",
      " |-- V137: float (nullable = true)\n",
      " |-- V279: float (nullable = true)\n",
      " |-- V280: float (nullable = true)\n",
      " |-- V281: float (nullable = true)\n",
      " |-- V282: float (nullable = true)\n",
      " |-- V283: float (nullable = true)\n",
      " |-- V284: float (nullable = true)\n",
      " |-- V285: float (nullable = true)\n",
      " |-- V286: float (nullable = true)\n",
      " |-- V287: float (nullable = true)\n",
      " |-- V288: float (nullable = true)\n",
      " |-- V289: float (nullable = true)\n",
      " |-- V290: float (nullable = true)\n",
      " |-- V291: float (nullable = true)\n",
      " |-- V292: float (nullable = true)\n",
      " |-- V293: float (nullable = true)\n",
      " |-- V294: float (nullable = true)\n",
      " |-- V295: float (nullable = true)\n",
      " |-- V296: float (nullable = true)\n",
      " |-- V297: float (nullable = true)\n",
      " |-- V298: float (nullable = true)\n",
      " |-- V299: float (nullable = true)\n",
      " |-- V300: float (nullable = true)\n",
      " |-- V301: float (nullable = true)\n",
      " |-- V302: float (nullable = true)\n",
      " |-- V303: float (nullable = true)\n",
      " |-- V304: float (nullable = true)\n",
      " |-- V305: float (nullable = true)\n",
      " |-- V306: float (nullable = true)\n",
      " |-- V307: float (nullable = true)\n",
      " |-- V308: float (nullable = true)\n",
      " |-- V309: float (nullable = true)\n",
      " |-- V310: float (nullable = true)\n",
      " |-- V311: float (nullable = true)\n",
      " |-- V312: float (nullable = true)\n",
      " |-- V313: float (nullable = true)\n",
      " |-- V314: float (nullable = true)\n",
      " |-- V315: float (nullable = true)\n",
      " |-- V316: float (nullable = true)\n",
      " |-- V317: float (nullable = true)\n",
      " |-- V318: float (nullable = true)\n",
      " |-- V319: float (nullable = true)\n",
      " |-- V320: float (nullable = true)\n",
      " |-- V321: float (nullable = true)\n",
      "\n"
     ]
    }
   ],
   "source": [
    "numerical = list(set(raw_features) - set(categorical))\n",
    "\n",
    "\n",
    "\n",
    "for col_name in numerical:\n",
    "    train = train.withColumn(col_name, col(col_name).cast('float'))\n",
    "    \n",
    "train = train.withColumn('isFraud', col('isFraud').cast('float'))\n",
    "\n",
    "train.printSchema()"
   ]
  },
  {
   "cell_type": "code",
   "execution_count": null,
   "metadata": {
    "id": "74575dd3"
   },
   "outputs": [],
   "source": [
    "categorical_output = ['card4_index', 'card6_index', 'ProductCD_index', 'card1_index', 'card3_index']\n",
    "'''\n",
    "categorical_output = ['ProductCD_index',\n",
    "               'card1_index','card2_index','card3_index','card4_index','card5_index','card6_index', \n",
    "               'addr1_index', 'addr2_index',\n",
    "               'M1_index', 'M2_index', 'M3_index', 'M4_index', 'M5_index', 'M6_index', 'M7_index', 'M8_index', 'M9_index',\n",
    "               'P_emaildomain_index', 'R_emaildomain_index',\n",
    "               'DeviceType_index','DeviceInfo_index',\n",
    "               'id12_index',  'id13_index', 'id14_index',  'id15_index',\n",
    "               'id16_index',  'id17_index',  'id18_index',  'id19_index',  'id20_index',\n",
    "               'id21_index',  'id22_index',  'id23_index',  'id24_index',  'id25_index',\n",
    "               'id26_index',  'id27_index',  'id28_index',  'id29_index',  'id30_index',\n",
    "               'id31_index',  'id32_index',  'id33_index',  'id34_index',  'id35_index',  'id36_index',  'id37_index',  'id38_index']\n",
    "'''\n",
    "\n",
    "from pyspark.ml.feature import StringIndexer\n",
    "indexer = StringIndexer(inputCols=categorical, outputCols=categorical_output, handleInvalid=\"skip\")\n",
    "#categorical_indexed = indexer.fit(train).transform(train)\n",
    "\n",
    "#categorical_indexed.printSchema()\n",
    "#categorical_indexed.count()"
   ]
  },
  {
   "cell_type": "code",
   "execution_count": null,
   "metadata": {
    "id": "07efd7f4"
   },
   "outputs": [],
   "source": [
    "from pyspark.ml.feature import VectorAssembler\n",
    "\n",
    "all_features = categorical_output + numerical\n",
    "assembler = VectorAssembler(\n",
    "    inputCols=all_features,\n",
    "    outputCol=\"features\",handleInvalid=\"skip\")\n",
    "#train_vector = assembler.transform(categorical_indexed)"
   ]
  },
  {
   "cell_type": "code",
   "execution_count": null,
   "metadata": {
    "id": "a30fee7a"
   },
   "outputs": [],
   "source": [
    "from pyspark.ml.feature import PCA\n",
    "pca = PCA(k=30, inputCol='features', outputCol='pcaFeature')"
   ]
  },
  {
   "cell_type": "code",
   "execution_count": null,
   "metadata": {
    "id": "08327948"
   },
   "outputs": [],
   "source": [
    "from pyspark.ml.classification import LogisticRegression\n",
    "lr = LogisticRegression(labelCol=\"isFraud\", featuresCol=\"pcaFeature\")\n",
    "\n",
    "#model = lr.fit(trainingData)"
   ]
  },
  {
   "cell_type": "code",
   "execution_count": null,
   "metadata": {
    "id": "6faefa62"
   },
   "outputs": [],
   "source": [
    "from pyspark.ml import Pipeline\n",
    "\n",
    "pipeline = Pipeline(stages=[indexer,assembler,pca,lr])"
   ]
  },
  {
   "cell_type": "code",
   "execution_count": null,
   "metadata": {
    "id": "49bf4e3c"
   },
   "outputs": [],
   "source": [
    "(trainingData, testData) = train.randomSplit([0.7, 0.3])\n",
    "model = pipeline.fit(trainingData)"
   ]
  },
  {
   "cell_type": "code",
   "execution_count": null,
   "metadata": {
    "colab": {
     "base_uri": "https://localhost:8080/"
    },
    "executionInfo": {
     "elapsed": 124900,
     "status": "ok",
     "timestamp": 1618830471293,
     "user": {
      "displayName": "Boaa Wong",
      "photoUrl": "",
      "userId": "17960031123875382409"
     },
     "user_tz": 480
    },
    "id": "bfe7719b",
    "outputId": "485476fc-65e6-4f51-84d1-461486d1fb94"
   },
   "outputs": [
    {
     "name": "stdout",
     "output_type": "stream",
     "text": [
      "Test Accracy = 0.925926\n"
     ]
    }
   ],
   "source": [
    "predictions = model.transform(testData)\n",
    "\n",
    "from pyspark.ml.evaluation import MulticlassClassificationEvaluator\n",
    "\n",
    "evaluator = MulticlassClassificationEvaluator(\n",
    "    labelCol=\"isFraud\", predictionCol=\"prediction\", metricName=\"accuracy\")\n",
    "accuracy = evaluator.evaluate(predictions)\n",
    "print(\"Test Logistic Regression Accuracy = %g\" % (accuracy))"
   ]
  },
  {
   "cell_type": "code",
   "execution_count": 65,
   "metadata": {
    "executionInfo": {
     "elapsed": 31686,
     "status": "ok",
     "timestamp": 1618837179061,
     "user": {
      "displayName": "Boaa Wong",
      "photoUrl": "",
      "userId": "17960031123875382409"
     },
     "user_tz": 480
    },
    "id": "1FgdHt2O6ckV"
   },
   "outputs": [],
   "source": [
    "# cross-fold\n",
    "from pyspark.ml.tuning import CrossValidator\n",
    "from pyspark.ml.tuning import ParamGridBuilder\n",
    "\n",
    "lr = LogisticRegression(labelCol=\"isFraud\")\n",
    "pipeline = Pipeline(stages=[indexer,assembler,pca,lr])\n",
    "\n",
    "grid = ParamGridBuilder().addGrid(lr.maxIter, [0, 2]).build()\n",
    "evaluator = MulticlassClassificationEvaluator(labelCol=\"isFraud\", predictionCol=\"prediction\", metricName=\"accuracy\")\n",
    "\n",
    "cv = CrossValidator(estimator=pipeline, \n",
    "           estimatorParamMaps=grid,\n",
    "           evaluator=evaluator,\n",
    "           numFolds=5,\n",
    "           parallelism=2)\n",
    "cvModel = cv.fit(trainingData) # run the crossValidation and automatically select the best combination of paramerters\n",
    "\n",
    "prediction = cvModel.transform(testData)\n",
    "evaluator.evaluate(prediction)"
   ]
  },
  {
   "cell_type": "code",
   "execution_count": 67,
   "metadata": {
    "colab": {
     "base_uri": "https://localhost:8080/"
    },
    "executionInfo": {
     "elapsed": 728,
     "status": "ok",
     "timestamp": 1618837183969,
     "user": {
      "displayName": "Boaa Wong",
      "photoUrl": "",
      "userId": "17960031123875382409"
     },
     "user_tz": 480
    },
    "id": "Q6l_LOH0HVjn",
    "outputId": "6c6ebeed-6acf-43fe-afa8-2826370ca2c6"
   },
   "outputs": [
    {
     "data": {
      "text/plain": [
       "[0.9681563079568576, 0.9650313079568578]"
      ]
     },
     "execution_count": 67,
     "metadata": {
      "tags": []
     },
     "output_type": "execute_result"
    }
   ],
   "source": [
    "cvModel.avgMetrics #validation accuracy"
   ]
  },
  {
   "cell_type": "code",
   "execution_count": 68,
   "metadata": {
    "colab": {
     "base_uri": "https://localhost:8080/"
    },
    "executionInfo": {
     "elapsed": 1654,
     "status": "ok",
     "timestamp": 1618837245370,
     "user": {
      "displayName": "Boaa Wong",
      "photoUrl": "",
      "userId": "17960031123875382409"
     },
     "user_tz": 480
    },
    "id": "Ju6ZtD85N3lN",
    "outputId": "cd125cfc-46be-45fb-bfcd-ba724d4a05fc"
   },
   "outputs": [
    {
     "data": {
      "text/plain": [
       "0.9444444444444444"
      ]
     },
     "execution_count": 68,
     "metadata": {
      "tags": []
     },
     "output_type": "execute_result"
    }
   ],
   "source": [
    "evaluator.evaluate(prediction) #test accuracy"
   ]
  },
  {
   "cell_type": "code",
   "execution_count": 74,
   "metadata": {
    "colab": {
     "base_uri": "https://localhost:8080/"
    },
    "executionInfo": {
     "elapsed": 1195,
     "status": "ok",
     "timestamp": 1618837591505,
     "user": {
      "displayName": "Boaa Wong",
      "photoUrl": "",
      "userId": "17960031123875382409"
     },
     "user_tz": 480
    },
    "id": "NhRVLil6PRlS",
    "outputId": "66b3283e-add2-47d2-b1a8-08ce26bfb47f"
   },
   "outputs": [
    {
     "name": "stdout",
     "output_type": "stream",
     "text": [
      "([{'maxIter': 0}], 0.9681563079568576)\n"
     ]
    }
   ],
   "source": [
    "# Print the best combination of arguments\n",
    "parameters = [\n",
    "    (\n",
    "        [\n",
    "            {key.name: paramValue} \n",
    "            for key, paramValue \n",
    "            in zip(\n",
    "                params.keys(), \n",
    "                params.values())\n",
    "        ], metric\n",
    "    ) \n",
    "    for params, metric \n",
    "    in zip(\n",
    "        cvModel.getEstimatorParamMaps(), \n",
    "        cvModel.avgMetrics\n",
    "    )\n",
    "]\n",
    " \n",
    "print(sorted(parameters, key=lambda el: el[1], reverse=True)[0])"
   ]
  },
  {
   "cell_type": "code",
   "execution_count": 121,
   "metadata": {
    "colab": {
     "base_uri": "https://localhost:8080/"
    },
    "executionInfo": {
     "elapsed": 8166,
     "status": "ok",
     "timestamp": 1618840682305,
     "user": {
      "displayName": "Boaa Wong",
      "photoUrl": "",
      "userId": "17960031123875382409"
     },
     "user_tz": 480
    },
    "id": "1x6tQXcGrWF2",
    "outputId": "6cdf7ebd-3dea-4111-8f5b-3fdebb728cdb"
   },
   "outputs": [
    {
     "name": "stdout",
     "output_type": "stream",
     "text": [
      "Test Decision Tree Accuracy = 0.944444\n"
     ]
    }
   ],
   "source": [
    "# decision tree\n",
    "from pyspark.ml.classification import DecisionTreeClassifier\n",
    "\n",
    "dt =  DecisionTreeClassifier(maxDepth=2,labelCol=\"isFraud\", featuresCol=\"pcaFeature\") \n",
    "dt_pipeline = Pipeline(stages=[indexer,assembler,pca,dt]) \n",
    "dt_model = dt_pipeline.fit(trainingData)\n",
    "dt_predictions = dt_model.transform(testData)\n",
    "\n",
    "dt_accuracy = evaluator.evaluate(dt_predictions)\n",
    "print(\"Test Decision Tree Accuracy = %g\" % (dt_accuracy))"
   ]
  },
  {
   "cell_type": "code",
   "execution_count": 23,
   "metadata": {
    "colab": {
     "base_uri": "https://localhost:8080/"
    },
    "executionInfo": {
     "elapsed": 8320,
     "status": "ok",
     "timestamp": 1618830985109,
     "user": {
      "displayName": "Boaa Wong",
      "photoUrl": "",
      "userId": "17960031123875382409"
     },
     "user_tz": 480
    },
    "id": "XqtAJEIDvu2T",
    "outputId": "9d6c74fb-3d6e-402e-8088-7ca3518136fc"
   },
   "outputs": [
    {
     "name": "stdout",
     "output_type": "stream",
     "text": [
      "Test Accracy = 0.944444\n"
     ]
    }
   ],
   "source": [
    "# random forest\n",
    "from pyspark.ml.classification import RandomForestClassifier\n",
    "\n",
    "rf = RandomForestClassifier(numTrees=3, maxDepth=2, labelCol=\"isFraud\",seed=42,featuresCol=\"pcaFeature\")\n",
    "rf_pipeline = Pipeline(stages=[indexer,assembler,pca,rf]) \n",
    "rf_model = rf_pipeline.fit(trainingData)\n",
    "rf_predictions = rf_model.transform(testData)\n",
    "\n",
    "rf_accuracy = evaluator.evaluate(rf_predictions)\n",
    "print(\"Test Random Forest Accuracy = %g\" % (rf_accuracy))"
   ]
  },
  {
   "cell_type": "code",
   "execution_count": 114,
   "metadata": {
    "colab": {
     "base_uri": "https://localhost:8080/"
    },
    "executionInfo": {
     "elapsed": 978,
     "status": "ok",
     "timestamp": 1618840015413,
     "user": {
      "displayName": "Boaa Wong",
      "photoUrl": "",
      "userId": "17960031123875382409"
     },
     "user_tz": 480
    },
    "id": "Baeo8w3FXh_s",
    "outputId": "75b6080d-0d53-4ba1-b8c6-105e13fecedd"
   },
   "outputs": [
    {
     "data": {
      "text/plain": [
       "109"
      ]
     },
     "execution_count": 114,
     "metadata": {
      "tags": []
     },
     "output_type": "execute_result"
    }
   ],
   "source": [
    "# According to materials, Check layer size for MLP, but this is not used\n",
    "test_pipeline = Pipeline(stages=[indexer,assembler,pca])\n",
    "test_model = test_pipeline.fit(trainingData)\n",
    "test = test_model.transform(trainingData)\n",
    "test.schema[\"features\"].metadata[\"ml_attr\"][\"num_attrs\"]"
   ]
  },
  {
   "cell_type": "code",
   "execution_count": 119,
   "metadata": {
    "colab": {
     "base_uri": "https://localhost:8080/"
    },
    "executionInfo": {
     "elapsed": 7615,
     "status": "ok",
     "timestamp": 1618840266899,
     "user": {
      "displayName": "Boaa Wong",
      "photoUrl": "",
      "userId": "17960031123875382409"
     },
     "user_tz": 480
    },
    "id": "URG5dkVtrWP6",
    "outputId": "890b8572-cce7-475a-9eda-4f5acbff14d4"
   },
   "outputs": [
    {
     "name": "stdout",
     "output_type": "stream",
     "text": [
      "Test Neural Network Accuracy = 0.944444\n"
     ]
    }
   ],
   "source": [
    "# nn - MLP\n",
    "from pyspark.ml.classification import MultilayerPerceptronClassifier\n",
    "\n",
    "layers = [30,5,3,2] # 30 is set according to error message given by code, 2 stands for isFraud or not\n",
    "trainer = MultilayerPerceptronClassifier(featuresCol=\"pcaFeature\", labelCol=\"isFraud\", maxIter=100, layers=layers, blockSize=128, seed=1234)\n",
    "mlp_pipeline = Pipeline(stages=[indexer,assembler,pca,trainer])\n",
    "mlp_model = mlp_pipeline.fit(trainingData)\n",
    "mlp_predictions = mlp_model.transform(testData)\n",
    "\n",
    "predictionAndLabels = mlp_predictions.select(\"prediction\", \"isFraud\")\n",
    "mlp_accuracy = evaluator.evaluate(mlp_predictions)\n",
    "print(\"Test Neural Network Accuracy = %g\" % (mlp_accuracy))"
   ]
  },
  {
   "cell_type": "code",
   "execution_count": 122,
   "metadata": {
    "colab": {
     "base_uri": "https://localhost:8080/"
    },
    "executionInfo": {
     "elapsed": 27911,
     "status": "ok",
     "timestamp": 1618840735741,
     "user": {
      "displayName": "Boaa Wong",
      "photoUrl": "",
      "userId": "17960031123875382409"
     },
     "user_tz": 480
    },
    "id": "5GTSQVKS8b4O",
    "outputId": "e96e3f39-c5cc-4a66-ced7-f392c5d08667"
   },
   "outputs": [
    {
     "name": "stdout",
     "output_type": "stream",
     "text": [
      "Test Linear SVM Accuracy = 0.944444\n"
     ]
    }
   ],
   "source": [
    "# linear svm\n",
    "from pyspark.ml.classification import LinearSVC\n",
    "\n",
    "SVC = LinearSVC(featuresCol=\"pcaFeature\", labelCol=\"isFraud\")\n",
    "svc_pipeline = Pipeline(stages=[indexer,assembler,pca,SVC])\n",
    "svc_model = svc_pipeline.fit(trainingData)\n",
    "svc_predictions = svc_model.transform(testData)\n",
    "\n",
    "svc_accuracy = evaluator.evaluate(svc_predictions)\n",
    "print(\"Test Linear SVM Accuracy = %g\" % (svc_accuracy))"
   ]
  },
  {
   "cell_type": "code",
   "execution_count": 33,
   "metadata": {
    "colab": {
     "base_uri": "https://localhost:8080/"
    },
    "executionInfo": {
     "elapsed": 6337,
     "status": "ok",
     "timestamp": 1618831862109,
     "user": {
      "displayName": "Boaa Wong",
      "photoUrl": "",
      "userId": "17960031123875382409"
     },
     "user_tz": 480
    },
    "id": "bygZeGQHu0qn",
    "outputId": "168f69c6-6ad0-45ad-f254-3f4c5b811d63"
   },
   "outputs": [
    {
     "name": "stdout",
     "output_type": "stream",
     "text": [
      "Test Accracy = 0.944444\n"
     ]
    }
   ],
   "source": [
    "# naive bayes\n",
    "from pyspark.ml.classification import NaiveBayes\n",
    "\n",
    "nb = NaiveBayes(smoothing=1.0, modelType=\"multinomial\")\n",
    "nb_pipeline = Pipeline(stages=[indexer,assembler,pca,rf]) \n",
    "nb_model = nb_pipeline.fit(trainingData)\n",
    "nb_predictions = nb_model.transform(testData)\n",
    "\n",
    "nb_accuracy = evaluator.evaluate(nb_predictions)\n",
    "print(\"Test Naive Beyes Accuracy = %g\" % (nb_accuracy))"
   ]
  }
 ],
 "metadata": {
  "colab": {
   "collapsed_sections": [],
   "name": "CW-week3.ipynb",
   "provenance": []
  },
  "kernelspec": {
   "display_name": "Python 3",
   "language": "python",
   "name": "python3"
  },
  "language_info": {
   "codemirror_mode": {
    "name": "ipython",
    "version": 3
   },
   "file_extension": ".py",
   "mimetype": "text/x-python",
   "name": "python",
   "nbconvert_exporter": "python",
   "pygments_lexer": "ipython3",
   "version": "3.7.3"
  }
 },
 "nbformat": 4,
 "nbformat_minor": 5
}
